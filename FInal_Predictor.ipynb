{
 "cells": [
  {
   "cell_type": "code",
   "execution_count": 24,
   "metadata": {},
   "outputs": [],
   "source": [
    "import pandas as pd \n",
    "import numpy as np\n",
    "import csv\n",
    "import tensorflow as tf\n",
    "from sklearn import preprocessing\n",
    "import keras\n",
    "from keras.models import load_model\n",
    "import warnings"
   ]
  },
  {
   "cell_type": "code",
   "execution_count": 25,
   "metadata": {},
   "outputs": [],
   "source": [
    "warnings.filterwarnings('ignore')"
   ]
  },
  {
   "cell_type": "code",
   "execution_count": 26,
   "metadata": {},
   "outputs": [
    {
     "data": {
      "text/plain": [
       "'/home/varshi/Downloads'"
      ]
     },
     "execution_count": 26,
     "metadata": {},
     "output_type": "execute_result"
    }
   ],
   "source": [
    "pwd"
   ]
  },
  {
   "cell_type": "code",
   "execution_count": 50,
   "metadata": {},
   "outputs": [],
   "source": [
    "def identify(act,loc,ui,mod1,mod2,train):\n",
    "    le = preprocessing.LabelEncoder()\n",
    "    Y_train = train['Activity'].copy() \n",
    "    le.fit(Y_train)\n",
    "    s1 = act.iloc[ui,]\n",
    "    s2 = loc.iloc[ui,]\n",
    "    s1 = s1.to_numpy(dtype=object)\n",
    "    s2 = s2.to_numpy(dtype=object)\n",
    "    pred = []\n",
    "    pred1 = mod1.predict(s1.reshape(1,562))\n",
    "    pred1 = np.argmax(pred1,axis=1)\n",
    "    p1 = le.inverse_transform([pred1])\n",
    "    pred.append(ui)\n",
    "    pred.append(p1)\n",
    "    pred2 = mod2.predict(s2.reshape(1,520))\n",
    "    pred2 = np.argmax(pred2,axis=1)\n",
    "    pred.append(pred2)\n",
    "    return pred"
   ]
  },
  {
   "cell_type": "code",
   "execution_count": 51,
   "metadata": {},
   "outputs": [],
   "source": [
    "m = pd.read_csv(\"Merge.csv\")"
   ]
  },
  {
   "cell_type": "code",
   "execution_count": 52,
   "metadata": {},
   "outputs": [],
   "source": [
    "dp = \"/home/varshi/Desktop/Project\"\n",
    "p1 = dp + \"/train.csv\"\n",
    "train = pd.read_csv(p1)"
   ]
  },
  {
   "cell_type": "code",
   "execution_count": 53,
   "metadata": {},
   "outputs": [
    {
     "data": {
      "text/html": [
       "<div>\n",
       "<style scoped>\n",
       "    .dataframe tbody tr th:only-of-type {\n",
       "        vertical-align: middle;\n",
       "    }\n",
       "\n",
       "    .dataframe tbody tr th {\n",
       "        vertical-align: top;\n",
       "    }\n",
       "\n",
       "    .dataframe thead th {\n",
       "        text-align: right;\n",
       "    }\n",
       "</style>\n",
       "<table border=\"1\" class=\"dataframe\">\n",
       "  <thead>\n",
       "    <tr style=\"text-align: right;\">\n",
       "      <th></th>\n",
       "      <th>Unnamed: 0</th>\n",
       "      <th>User</th>\n",
       "      <th>0</th>\n",
       "      <th>1</th>\n",
       "      <th>2</th>\n",
       "      <th>3</th>\n",
       "      <th>4</th>\n",
       "      <th>5</th>\n",
       "      <th>6</th>\n",
       "      <th>7</th>\n",
       "      <th>...</th>\n",
       "      <th>WAP511</th>\n",
       "      <th>WAP512</th>\n",
       "      <th>WAP513</th>\n",
       "      <th>WAP514</th>\n",
       "      <th>WAP515</th>\n",
       "      <th>WAP516</th>\n",
       "      <th>WAP517</th>\n",
       "      <th>WAP518</th>\n",
       "      <th>WAP519</th>\n",
       "      <th>WAP520</th>\n",
       "    </tr>\n",
       "  </thead>\n",
       "  <tbody>\n",
       "    <tr>\n",
       "      <th>0</th>\n",
       "      <td>0</td>\n",
       "      <td>1</td>\n",
       "      <td>0.628589</td>\n",
       "      <td>0.488357</td>\n",
       "      <td>0.492673</td>\n",
       "      <td>0.030798</td>\n",
       "      <td>0.041638</td>\n",
       "      <td>0.166158</td>\n",
       "      <td>0.023749</td>\n",
       "      <td>0.037990</td>\n",
       "      <td>...</td>\n",
       "      <td>0</td>\n",
       "      <td>0</td>\n",
       "      <td>0</td>\n",
       "      <td>0</td>\n",
       "      <td>0</td>\n",
       "      <td>0</td>\n",
       "      <td>0</td>\n",
       "      <td>0</td>\n",
       "      <td>0</td>\n",
       "      <td>0.0</td>\n",
       "    </tr>\n",
       "    <tr>\n",
       "      <th>1</th>\n",
       "      <td>1</td>\n",
       "      <td>2</td>\n",
       "      <td>0.643013</td>\n",
       "      <td>0.493418</td>\n",
       "      <td>0.440459</td>\n",
       "      <td>0.012293</td>\n",
       "      <td>0.016917</td>\n",
       "      <td>0.027521</td>\n",
       "      <td>0.006601</td>\n",
       "      <td>0.016059</td>\n",
       "      <td>...</td>\n",
       "      <td>0</td>\n",
       "      <td>0</td>\n",
       "      <td>0</td>\n",
       "      <td>0</td>\n",
       "      <td>0</td>\n",
       "      <td>0</td>\n",
       "      <td>0</td>\n",
       "      <td>0</td>\n",
       "      <td>0</td>\n",
       "      <td>0.0</td>\n",
       "    </tr>\n",
       "    <tr>\n",
       "      <th>2</th>\n",
       "      <td>2</td>\n",
       "      <td>3</td>\n",
       "      <td>0.637742</td>\n",
       "      <td>0.486975</td>\n",
       "      <td>0.440924</td>\n",
       "      <td>0.003090</td>\n",
       "      <td>0.015629</td>\n",
       "      <td>0.018626</td>\n",
       "      <td>0.002798</td>\n",
       "      <td>0.014873</td>\n",
       "      <td>...</td>\n",
       "      <td>0</td>\n",
       "      <td>0</td>\n",
       "      <td>0</td>\n",
       "      <td>0</td>\n",
       "      <td>0</td>\n",
       "      <td>0</td>\n",
       "      <td>0</td>\n",
       "      <td>0</td>\n",
       "      <td>0</td>\n",
       "      <td>0.0</td>\n",
       "    </tr>\n",
       "    <tr>\n",
       "      <th>3</th>\n",
       "      <td>3</td>\n",
       "      <td>4</td>\n",
       "      <td>0.635149</td>\n",
       "      <td>0.483693</td>\n",
       "      <td>0.441240</td>\n",
       "      <td>0.002629</td>\n",
       "      <td>0.013885</td>\n",
       "      <td>0.016455</td>\n",
       "      <td>0.002363</td>\n",
       "      <td>0.012974</td>\n",
       "      <td>...</td>\n",
       "      <td>0</td>\n",
       "      <td>0</td>\n",
       "      <td>0</td>\n",
       "      <td>0</td>\n",
       "      <td>0</td>\n",
       "      <td>0</td>\n",
       "      <td>0</td>\n",
       "      <td>0</td>\n",
       "      <td>0</td>\n",
       "      <td>0.0</td>\n",
       "    </tr>\n",
       "    <tr>\n",
       "      <th>4</th>\n",
       "      <td>4</td>\n",
       "      <td>5</td>\n",
       "      <td>0.637416</td>\n",
       "      <td>0.486076</td>\n",
       "      <td>0.435236</td>\n",
       "      <td>0.003074</td>\n",
       "      <td>0.016924</td>\n",
       "      <td>0.010853</td>\n",
       "      <td>0.002944</td>\n",
       "      <td>0.017303</td>\n",
       "      <td>...</td>\n",
       "      <td>0</td>\n",
       "      <td>0</td>\n",
       "      <td>0</td>\n",
       "      <td>0</td>\n",
       "      <td>0</td>\n",
       "      <td>0</td>\n",
       "      <td>0</td>\n",
       "      <td>0</td>\n",
       "      <td>0</td>\n",
       "      <td>0.0</td>\n",
       "    </tr>\n",
       "  </tbody>\n",
       "</table>\n",
       "<p>5 rows × 1084 columns</p>\n",
       "</div>"
      ],
      "text/plain": [
       "   Unnamed: 0  User         0         1         2         3         4  \\\n",
       "0           0     1  0.628589  0.488357  0.492673  0.030798  0.041638   \n",
       "1           1     2  0.643013  0.493418  0.440459  0.012293  0.016917   \n",
       "2           2     3  0.637742  0.486975  0.440924  0.003090  0.015629   \n",
       "3           3     4  0.635149  0.483693  0.441240  0.002629  0.013885   \n",
       "4           4     5  0.637416  0.486076  0.435236  0.003074  0.016924   \n",
       "\n",
       "          5         6         7  ...  WAP511  WAP512  WAP513  WAP514  WAP515  \\\n",
       "0  0.166158  0.023749  0.037990  ...       0       0       0       0       0   \n",
       "1  0.027521  0.006601  0.016059  ...       0       0       0       0       0   \n",
       "2  0.018626  0.002798  0.014873  ...       0       0       0       0       0   \n",
       "3  0.016455  0.002363  0.012974  ...       0       0       0       0       0   \n",
       "4  0.010853  0.002944  0.017303  ...       0       0       0       0       0   \n",
       "\n",
       "   WAP516  WAP517  WAP518  WAP519  WAP520  \n",
       "0       0       0       0       0     0.0  \n",
       "1       0       0       0       0     0.0  \n",
       "2       0       0       0       0     0.0  \n",
       "3       0       0       0       0     0.0  \n",
       "4       0       0       0       0     0.0  \n",
       "\n",
       "[5 rows x 1084 columns]"
      ]
     },
     "execution_count": 53,
     "metadata": {},
     "output_type": "execute_result"
    }
   ],
   "source": [
    "m.head()"
   ]
  },
  {
   "cell_type": "code",
   "execution_count": 54,
   "metadata": {},
   "outputs": [],
   "source": [
    "#Loading Models\n",
    "act = tf.keras.models.load_model(\"m.h5\")\n",
    "indoor = load_model(\"loc.h5\")"
   ]
  },
  {
   "cell_type": "code",
   "execution_count": 55,
   "metadata": {},
   "outputs": [],
   "source": [
    "test_act = m.iloc[:,2:564]\n",
    "test_loc = m.iloc[:,564:1084]"
   ]
  },
  {
   "cell_type": "code",
   "execution_count": 56,
   "metadata": {},
   "outputs": [
    {
     "name": "stdout",
     "output_type": "stream",
     "text": [
      "Enter User Id :\n",
      "8\n"
     ]
    }
   ],
   "source": [
    "print(\"Enter User Id :\")\n",
    "ui = int(input())\n",
    "if ui<1 or ui>1111:\n",
    "    print(\"Kindly enter a user id between 1 and 1111\")"
   ]
  },
  {
   "cell_type": "code",
   "execution_count": 57,
   "metadata": {},
   "outputs": [],
   "source": [
    "idn = identify(test_act,test_loc,ui,act,indoor,train)"
   ]
  },
  {
   "cell_type": "code",
   "execution_count": 58,
   "metadata": {},
   "outputs": [
    {
     "name": "stdout",
     "output_type": "stream",
     "text": [
      "User 4 is ['STANDING'] at location [1697]\n",
      "\n"
     ]
    }
   ],
   "source": [
    "print(\"User {} is {} at location {}\\n\".format(pred[0],pred[1],pred[2]))"
   ]
  }
 ],
 "metadata": {
  "kernelspec": {
   "display_name": "Python 3",
   "language": "python",
   "name": "python3"
  },
  "language_info": {
   "codemirror_mode": {
    "name": "ipython",
    "version": 3
   },
   "file_extension": ".py",
   "mimetype": "text/x-python",
   "name": "python",
   "nbconvert_exporter": "python",
   "pygments_lexer": "ipython3",
   "version": "3.7.5"
  }
 },
 "nbformat": 4,
 "nbformat_minor": 4
}
