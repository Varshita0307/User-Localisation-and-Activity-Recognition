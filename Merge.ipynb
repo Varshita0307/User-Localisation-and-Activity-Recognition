{
 "cells": [
  {
   "cell_type": "code",
   "execution_count": 2,
   "metadata": {},
   "outputs": [
    {
     "name": "stderr",
     "output_type": "stream",
     "text": [
      "/home/varshi/.local/lib/python3.7/site-packages/tensorflow/python/framework/dtypes.py:516: FutureWarning: Passing (type, 1) or '1type' as a synonym of type is deprecated; in a future version of numpy, it will be understood as (type, (1,)) / '(1,)type'.\n",
      "  _np_qint8 = np.dtype([(\"qint8\", np.int8, 1)])\n",
      "/home/varshi/.local/lib/python3.7/site-packages/tensorflow/python/framework/dtypes.py:517: FutureWarning: Passing (type, 1) or '1type' as a synonym of type is deprecated; in a future version of numpy, it will be understood as (type, (1,)) / '(1,)type'.\n",
      "  _np_quint8 = np.dtype([(\"quint8\", np.uint8, 1)])\n",
      "/home/varshi/.local/lib/python3.7/site-packages/tensorflow/python/framework/dtypes.py:518: FutureWarning: Passing (type, 1) or '1type' as a synonym of type is deprecated; in a future version of numpy, it will be understood as (type, (1,)) / '(1,)type'.\n",
      "  _np_qint16 = np.dtype([(\"qint16\", np.int16, 1)])\n",
      "/home/varshi/.local/lib/python3.7/site-packages/tensorflow/python/framework/dtypes.py:519: FutureWarning: Passing (type, 1) or '1type' as a synonym of type is deprecated; in a future version of numpy, it will be understood as (type, (1,)) / '(1,)type'.\n",
      "  _np_quint16 = np.dtype([(\"quint16\", np.uint16, 1)])\n",
      "/home/varshi/.local/lib/python3.7/site-packages/tensorflow/python/framework/dtypes.py:520: FutureWarning: Passing (type, 1) or '1type' as a synonym of type is deprecated; in a future version of numpy, it will be understood as (type, (1,)) / '(1,)type'.\n",
      "  _np_qint32 = np.dtype([(\"qint32\", np.int32, 1)])\n",
      "/home/varshi/.local/lib/python3.7/site-packages/tensorflow/python/framework/dtypes.py:525: FutureWarning: Passing (type, 1) or '1type' as a synonym of type is deprecated; in a future version of numpy, it will be understood as (type, (1,)) / '(1,)type'.\n",
      "  np_resource = np.dtype([(\"resource\", np.ubyte, 1)])\n",
      "/home/varshi/.local/lib/python3.7/site-packages/tensorboard/compat/tensorflow_stub/dtypes.py:541: FutureWarning: Passing (type, 1) or '1type' as a synonym of type is deprecated; in a future version of numpy, it will be understood as (type, (1,)) / '(1,)type'.\n",
      "  _np_qint8 = np.dtype([(\"qint8\", np.int8, 1)])\n",
      "/home/varshi/.local/lib/python3.7/site-packages/tensorboard/compat/tensorflow_stub/dtypes.py:542: FutureWarning: Passing (type, 1) or '1type' as a synonym of type is deprecated; in a future version of numpy, it will be understood as (type, (1,)) / '(1,)type'.\n",
      "  _np_quint8 = np.dtype([(\"quint8\", np.uint8, 1)])\n",
      "/home/varshi/.local/lib/python3.7/site-packages/tensorboard/compat/tensorflow_stub/dtypes.py:543: FutureWarning: Passing (type, 1) or '1type' as a synonym of type is deprecated; in a future version of numpy, it will be understood as (type, (1,)) / '(1,)type'.\n",
      "  _np_qint16 = np.dtype([(\"qint16\", np.int16, 1)])\n",
      "/home/varshi/.local/lib/python3.7/site-packages/tensorboard/compat/tensorflow_stub/dtypes.py:544: FutureWarning: Passing (type, 1) or '1type' as a synonym of type is deprecated; in a future version of numpy, it will be understood as (type, (1,)) / '(1,)type'.\n",
      "  _np_quint16 = np.dtype([(\"quint16\", np.uint16, 1)])\n",
      "/home/varshi/.local/lib/python3.7/site-packages/tensorboard/compat/tensorflow_stub/dtypes.py:545: FutureWarning: Passing (type, 1) or '1type' as a synonym of type is deprecated; in a future version of numpy, it will be understood as (type, (1,)) / '(1,)type'.\n",
      "  _np_qint32 = np.dtype([(\"qint32\", np.int32, 1)])\n",
      "/home/varshi/.local/lib/python3.7/site-packages/tensorboard/compat/tensorflow_stub/dtypes.py:550: FutureWarning: Passing (type, 1) or '1type' as a synonym of type is deprecated; in a future version of numpy, it will be understood as (type, (1,)) / '(1,)type'.\n",
      "  np_resource = np.dtype([(\"resource\", np.ubyte, 1)])\n",
      "Using TensorFlow backend.\n"
     ]
    }
   ],
   "source": [
    "import pandas as pd \n",
    "import numpy as np\n",
    "import matplotlib.pyplot as plt\n",
    "import seaborn as sns\n",
    "import os\n",
    "import csv\n",
    "from sklearn.model_selection import train_test_split\n",
    "import tensorflow as tf\n",
    "from sklearn import preprocessing\n",
    "from sklearn.metrics import classification_report, confusion_matrix\n",
    "from tensorflow.keras.models import Sequential\n",
    "from tensorflow.keras.layers import Dense,Input,Dropout\n",
    "import time\n",
    "import glob\n",
    "import math\n",
    "import keras\n",
    "from keras.models import Sequential\n",
    "from keras.models import load_model\n",
    "from keras.layers import Dense\n",
    "from keras import metrics\n",
    "from keras import regularizers\n",
    "from keras.layers import Dropout\n",
    "from keras.constraints import maxnorm\n",
    "import warnings"
   ]
  },
  {
   "cell_type": "code",
   "execution_count": 3,
   "metadata": {},
   "outputs": [
    {
     "data": {
      "text/plain": [
       "'/home/varshi/Downloads'"
      ]
     },
     "execution_count": 3,
     "metadata": {},
     "output_type": "execute_result"
    }
   ],
   "source": [
    "pwd"
   ]
  },
  {
   "cell_type": "code",
   "execution_count": 4,
   "metadata": {},
   "outputs": [],
   "source": [
    "warnings.filterwarnings('ignore')"
   ]
  },
  {
   "cell_type": "code",
   "execution_count": 8,
   "metadata": {},
   "outputs": [],
   "source": [
    "loc_test = pd.read_excel(\"Activ.xlsx\")"
   ]
  },
  {
   "cell_type": "code",
   "execution_count": 9,
   "metadata": {},
   "outputs": [],
   "source": [
    "ind_test = pd.read_excel(\"op_indoor.xlsx\")"
   ]
  },
  {
   "cell_type": "code",
   "execution_count": 10,
   "metadata": {},
   "outputs": [
    {
     "name": "stdout",
     "output_type": "stream",
     "text": [
      "           0         1         2         3         4         5         6    \\\n",
      "0     0.628589  0.488357  0.492673  0.030798  0.041638  0.166158  0.023749   \n",
      "1     0.643013  0.493418  0.440459  0.012293  0.016917  0.027521  0.006601   \n",
      "2     0.637742  0.486975  0.440924  0.003090  0.015629  0.018626  0.002798   \n",
      "3     0.635149  0.483693  0.441240  0.002629  0.013885  0.016455  0.002363   \n",
      "4     0.637416  0.486076  0.435236  0.003074  0.016924  0.010853  0.002944   \n",
      "...        ...       ...       ...       ...       ...       ...       ...   \n",
      "2942  0.655077  0.473304  0.450446  0.356067  0.448452  0.392456  0.321958   \n",
      "2943  0.681692  0.480393  0.447042  0.347306  0.536514  0.401814  0.313230   \n",
      "2944  0.674983  0.515039  0.442106  0.335181  0.499830  0.374910  0.305992   \n",
      "2945  0.618797  0.509233  0.451751  0.338443  0.401907  0.396213  0.303810   \n",
      "2946  0.576814  0.490782  0.431491  0.334977  0.419923  0.417831  0.284513   \n",
      "\n",
      "           7         8         9    ...       552       553       554  \\\n",
      "0     0.037990  0.162849  0.052956  ...  0.335024  0.150153  0.497345   \n",
      "1     0.016059  0.027088  0.052956  ...  0.440080  0.206899  0.451833   \n",
      "2     0.014873  0.018259  0.030370  ...  0.405530  0.183495  0.476390   \n",
      "3     0.012974  0.015551  0.030695  ...  0.327946  0.134744  0.485441   \n",
      "4     0.017303  0.011327  0.030695  ...  0.232089  0.078283  0.492951   \n",
      "...        ...       ...       ...  ...       ...       ...       ...   \n",
      "2942  0.432607  0.383971  0.592681  ...  0.311895  0.127238  0.323366   \n",
      "2943  0.492952  0.364882  0.592681  ...  0.340038  0.153066  0.121361   \n",
      "2944  0.440493  0.326486  0.503736  ...  0.441587  0.272198  0.402220   \n",
      "2945  0.366114  0.355261  0.503736  ...  0.397962  0.195250  0.718988   \n",
      "2946  0.397276  0.385034  0.444237  ...  0.465072  0.287653  0.797027   \n",
      "\n",
      "           555       556       557       558       559       560       561  \n",
      "0     0.581460  0.087114  0.636824  0.139995  0.863779  0.471011  0.034483  \n",
      "1     0.508750  0.282996  0.962183  0.150955  0.866852  0.458051  0.034483  \n",
      "2     0.601151  0.532397  0.573659  0.148614  0.865999  0.460327  0.034483  \n",
      "3     0.577219  0.670502  0.649477  0.150523  0.868726  0.461446  0.034483  \n",
      "4     0.479977  0.868921  0.441594  0.153878  0.873197  0.463072  0.034483  \n",
      "...        ...       ...       ...       ...       ...       ...       ...  \n",
      "2942  0.673147  0.943064  0.150853  0.174134  0.862308  0.592392  0.793103  \n",
      "2943  0.313556  0.171401  0.662573  0.172410  0.861599  0.591206  0.793103  \n",
      "2944  0.544287  0.848883  0.682908  0.172322  0.862208  0.590592  0.793103  \n",
      "2945  0.090406  0.965273  0.496775  0.170141  0.855647  0.593781  0.793103  \n",
      "2946  0.356025  0.938624  0.488475  0.169960  0.855076  0.594052  0.793103  \n",
      "\n",
      "[2947 rows x 562 columns]\n"
     ]
    }
   ],
   "source": [
    "print(loc_test)"
   ]
  },
  {
   "cell_type": "code",
   "execution_count": 11,
   "metadata": {},
   "outputs": [],
   "source": [
    "loc = loc_test[:1111]"
   ]
  },
  {
   "cell_type": "code",
   "execution_count": 12,
   "metadata": {},
   "outputs": [
    {
     "name": "stdout",
     "output_type": "stream",
     "text": [
      "           0         1         2         3         4         5         6    \\\n",
      "0     0.628589  0.488357  0.492673  0.030798  0.041638  0.166158  0.023749   \n",
      "1     0.643013  0.493418  0.440459  0.012293  0.016917  0.027521  0.006601   \n",
      "2     0.637742  0.486975  0.440924  0.003090  0.015629  0.018626  0.002798   \n",
      "3     0.635149  0.483693  0.441240  0.002629  0.013885  0.016455  0.002363   \n",
      "4     0.637416  0.486076  0.435236  0.003074  0.016924  0.010853  0.002944   \n",
      "...        ...       ...       ...       ...       ...       ...       ...   \n",
      "1106  0.618653  0.486391  0.447141  0.016551  0.019588  0.026535  0.015602   \n",
      "1107  0.629443  0.491209  0.440861  0.020019  0.022172  0.019056  0.014867   \n",
      "1108  0.631222  0.493843  0.451131  0.018119  0.011647  0.011090  0.011857   \n",
      "1109  0.631273  0.491891  0.448279  0.005576  0.004296  0.005416  0.005095   \n",
      "1110  0.634824  0.490766  0.446391  0.005634  0.003666  0.004244  0.005292   \n",
      "\n",
      "           7         8         9    ...       552       553       554  \\\n",
      "0     0.037990  0.162849  0.052956  ...  0.335024  0.150153  0.497345   \n",
      "1     0.016059  0.027088  0.052956  ...  0.440080  0.206899  0.451833   \n",
      "2     0.014873  0.018259  0.030370  ...  0.405530  0.183495  0.476390   \n",
      "3     0.012974  0.015551  0.030695  ...  0.327946  0.134744  0.485441   \n",
      "4     0.017303  0.011327  0.030695  ...  0.232089  0.078283  0.492951   \n",
      "...        ...       ...       ...  ...       ...       ...       ...   \n",
      "1106  0.017948  0.030411  0.038680  ...  0.217325  0.094853  0.341136   \n",
      "1107  0.021568  0.019982  0.052570  ...  0.429485  0.236234  0.585296   \n",
      "1108  0.010879  0.010290  0.052570  ...  0.487532  0.318285  0.564717   \n",
      "1109  0.004658  0.005708  0.032314  ...  0.370890  0.189357  0.493741   \n",
      "1110  0.003691  0.003762  0.031411  ...  0.381959  0.181764  0.369023   \n",
      "\n",
      "           555       556       557       558       559       560       561  \n",
      "0     0.581460  0.087114  0.636824  0.139995  0.863779  0.471011  0.034483  \n",
      "1     0.508750  0.282996  0.962183  0.150955  0.866852  0.458051  0.034483  \n",
      "2     0.601151  0.532397  0.573659  0.148614  0.865999  0.460327  0.034483  \n",
      "3     0.577219  0.670502  0.649477  0.150523  0.868726  0.461446  0.034483  \n",
      "4     0.479977  0.868921  0.441594  0.153878  0.873197  0.463072  0.034483  \n",
      "...        ...       ...       ...       ...       ...       ...       ...  \n",
      "1106  0.643187  0.247176  0.789418  0.759582  1.286793  0.357865  0.310345  \n",
      "1107  0.702759  0.311948  0.806434  0.763817  1.287487  0.357845  0.310345  \n",
      "1108  0.342186  0.705696  0.505442  0.766560  1.289159  0.358815  0.310345  \n",
      "1109  0.175081  0.811520  0.756435  0.768168  1.287246  0.357156  0.310345  \n",
      "1110  0.412355  0.785152  0.200556  0.769905  1.286272  0.356223  0.310345  \n",
      "\n",
      "[1111 rows x 562 columns]\n"
     ]
    }
   ],
   "source": [
    "print(loc)"
   ]
  },
  {
   "cell_type": "code",
   "execution_count": 15,
   "metadata": {},
   "outputs": [
    {
     "name": "stdout",
     "output_type": "stream",
     "text": [
      "      WAP001  WAP002  WAP003  WAP004  WAP005  WAP006  WAP007  WAP008  WAP009  \\\n",
      "0        0.0       0     0.0     0.0       0       0       0     0.0     0.0   \n",
      "1        0.0       0     0.0     0.0       0       0       0     0.0     0.0   \n",
      "2        0.0       0     0.0     0.0       0       0       0     0.0     0.0   \n",
      "3        0.0       0     0.0     0.0       0       0       0     0.0     0.0   \n",
      "4        0.0       0     0.0     0.0       0       0       0     0.0     0.0   \n",
      "...      ...     ...     ...     ...     ...     ...     ...     ...     ...   \n",
      "1106     0.0       0     0.0     0.0       0       0       0     0.0     0.0   \n",
      "1107     0.0       0     0.0     0.0       0       0       0     0.0     0.0   \n",
      "1108     0.0       0     0.0     0.0       0       0       0     0.0     0.0   \n",
      "1109     0.0       0     0.0     0.0       0       0       0     0.0     0.0   \n",
      "1110     0.0       0     0.0     0.0       0       0       0     0.0     0.0   \n",
      "\n",
      "      WAP010  ...  WAP511  WAP512  WAP513  WAP514  WAP515  WAP516  WAP517  \\\n",
      "0        0.0  ...       0       0       0       0       0       0       0   \n",
      "1        0.0  ...       0       0       0       0       0       0       0   \n",
      "2        0.0  ...       0       0       0       0       0       0       0   \n",
      "3        0.0  ...       0       0       0       0       0       0       0   \n",
      "4        0.0  ...       0       0       0       0       0       0       0   \n",
      "...      ...  ...     ...     ...     ...     ...     ...     ...     ...   \n",
      "1106     0.0  ...       0       0       0       0       0       0       0   \n",
      "1107     0.0  ...       0       0       0       0       0       0       0   \n",
      "1108     0.0  ...       0       0       0       0       0       0       0   \n",
      "1109     0.0  ...       0       0       0       0       0       0       0   \n",
      "1110     0.0  ...       0       0       0       0       0       0       0   \n",
      "\n",
      "      WAP518  WAP519  WAP520  \n",
      "0          0       0     0.0  \n",
      "1          0       0     0.0  \n",
      "2          0       0     0.0  \n",
      "3          0       0     0.0  \n",
      "4          0       0     0.0  \n",
      "...      ...     ...     ...  \n",
      "1106       0       0     0.0  \n",
      "1107       0       0     0.0  \n",
      "1108       0       0     0.0  \n",
      "1109       0       0     0.0  \n",
      "1110       0       0     0.0  \n",
      "\n",
      "[1111 rows x 520 columns]\n"
     ]
    }
   ],
   "source": [
    "print(ind_test)"
   ]
  },
  {
   "cell_type": "code",
   "execution_count": 14,
   "metadata": {},
   "outputs": [],
   "source": [
    "merged = loc.join(ind_test)"
   ]
  },
  {
   "cell_type": "code",
   "execution_count": 16,
   "metadata": {},
   "outputs": [
    {
     "data": {
      "text/plain": [
       "pandas.core.frame.DataFrame"
      ]
     },
     "execution_count": 16,
     "metadata": {},
     "output_type": "execute_result"
    }
   ],
   "source": [
    "type(merged)"
   ]
  },
  {
   "cell_type": "code",
   "execution_count": 17,
   "metadata": {},
   "outputs": [],
   "source": [
    "merged.to_excel(\"Merged.xlsx\")"
   ]
  },
  {
   "cell_type": "code",
   "execution_count": 21,
   "metadata": {},
   "outputs": [],
   "source": [
    "m = pd.read_csv(\"Merge.csv\")"
   ]
  },
  {
   "cell_type": "code",
   "execution_count": 22,
   "metadata": {},
   "outputs": [
    {
     "name": "stdout",
     "output_type": "stream",
     "text": [
      "      Unnamed: 0  User         0         1         2         3         4  \\\n",
      "0              0     1  0.628589  0.488357  0.492673  0.030798  0.041638   \n",
      "1              1     2  0.643013  0.493418  0.440459  0.012293  0.016917   \n",
      "2              2     3  0.637742  0.486975  0.440924  0.003090  0.015629   \n",
      "3              3     4  0.635149  0.483693  0.441240  0.002629  0.013885   \n",
      "4              4     5  0.637416  0.486076  0.435236  0.003074  0.016924   \n",
      "...          ...   ...       ...       ...       ...       ...       ...   \n",
      "1106        1106  1107  0.618653  0.486391  0.447141  0.016551  0.019588   \n",
      "1107        1107  1108  0.629443  0.491209  0.440861  0.020019  0.022172   \n",
      "1108        1108  1109  0.631222  0.493843  0.451131  0.018119  0.011647   \n",
      "1109        1109  1110  0.631273  0.491891  0.448279  0.005576  0.004296   \n",
      "1110        1110  1111  0.634824  0.490766  0.446391  0.005634  0.003666   \n",
      "\n",
      "             5         6         7  ...  WAP511  WAP512  WAP513  WAP514  \\\n",
      "0     0.166158  0.023749  0.037990  ...       0       0       0       0   \n",
      "1     0.027521  0.006601  0.016059  ...       0       0       0       0   \n",
      "2     0.018626  0.002798  0.014873  ...       0       0       0       0   \n",
      "3     0.016455  0.002363  0.012974  ...       0       0       0       0   \n",
      "4     0.010853  0.002944  0.017303  ...       0       0       0       0   \n",
      "...        ...       ...       ...  ...     ...     ...     ...     ...   \n",
      "1106  0.026535  0.015602  0.017948  ...       0       0       0       0   \n",
      "1107  0.019056  0.014867  0.021568  ...       0       0       0       0   \n",
      "1108  0.011090  0.011857  0.010879  ...       0       0       0       0   \n",
      "1109  0.005416  0.005095  0.004658  ...       0       0       0       0   \n",
      "1110  0.004244  0.005292  0.003691  ...       0       0       0       0   \n",
      "\n",
      "      WAP515  WAP516  WAP517  WAP518  WAP519  WAP520  \n",
      "0          0       0       0       0       0     0.0  \n",
      "1          0       0       0       0       0     0.0  \n",
      "2          0       0       0       0       0     0.0  \n",
      "3          0       0       0       0       0     0.0  \n",
      "4          0       0       0       0       0     0.0  \n",
      "...      ...     ...     ...     ...     ...     ...  \n",
      "1106       0       0       0       0       0     0.0  \n",
      "1107       0       0       0       0       0     0.0  \n",
      "1108       0       0       0       0       0     0.0  \n",
      "1109       0       0       0       0       0     0.0  \n",
      "1110       0       0       0       0       0     0.0  \n",
      "\n",
      "[1111 rows x 1084 columns]\n"
     ]
    }
   ],
   "source": [
    "print(m)"
   ]
  },
  {
   "cell_type": "code",
   "execution_count": 73,
   "metadata": {},
   "outputs": [],
   "source": [
    "model = tf.keras.models.load_model(\"m.h5\")\n",
    "model1 = load_model(\"loc.h5\")"
   ]
  },
  {
   "cell_type": "code",
   "execution_count": 33,
   "metadata": {},
   "outputs": [],
   "source": [
    "X_test = m.iloc[:,2:564]"
   ]
  },
  {
   "cell_type": "code",
   "execution_count": 34,
   "metadata": {},
   "outputs": [
    {
     "name": "stdout",
     "output_type": "stream",
     "text": [
      "             0         1         2         3         4         5         6  \\\n",
      "0     0.628589  0.488357  0.492673  0.030798  0.041638  0.166158  0.023749   \n",
      "1     0.643013  0.493418  0.440459  0.012293  0.016917  0.027521  0.006601   \n",
      "2     0.637742  0.486975  0.440924  0.003090  0.015629  0.018626  0.002798   \n",
      "3     0.635149  0.483693  0.441240  0.002629  0.013885  0.016455  0.002363   \n",
      "4     0.637416  0.486076  0.435236  0.003074  0.016924  0.010853  0.002944   \n",
      "...        ...       ...       ...       ...       ...       ...       ...   \n",
      "1106  0.618653  0.486391  0.447141  0.016551  0.019588  0.026535  0.015602   \n",
      "1107  0.629443  0.491209  0.440861  0.020019  0.022172  0.019056  0.014867   \n",
      "1108  0.631222  0.493843  0.451131  0.018119  0.011647  0.011090  0.011857   \n",
      "1109  0.631273  0.491891  0.448279  0.005576  0.004296  0.005416  0.005095   \n",
      "1110  0.634824  0.490766  0.446391  0.005634  0.003666  0.004244  0.005292   \n",
      "\n",
      "             7         8         9  ...       552       553       554  \\\n",
      "0     0.037990  0.162849  0.052956  ...  0.335024  0.150153  0.497345   \n",
      "1     0.016059  0.027088  0.052956  ...  0.440080  0.206899  0.451833   \n",
      "2     0.014873  0.018259  0.030370  ...  0.405530  0.183495  0.476390   \n",
      "3     0.012974  0.015551  0.030695  ...  0.327946  0.134744  0.485441   \n",
      "4     0.017303  0.011327  0.030695  ...  0.232089  0.078283  0.492951   \n",
      "...        ...       ...       ...  ...       ...       ...       ...   \n",
      "1106  0.017948  0.030411  0.038680  ...  0.217325  0.094853  0.341136   \n",
      "1107  0.021568  0.019982  0.052570  ...  0.429485  0.236234  0.585296   \n",
      "1108  0.010879  0.010290  0.052570  ...  0.487532  0.318285  0.564717   \n",
      "1109  0.004658  0.005708  0.032314  ...  0.370890  0.189357  0.493741   \n",
      "1110  0.003691  0.003762  0.031411  ...  0.381959  0.181764  0.369023   \n",
      "\n",
      "           555       556       557       558       559       560       561  \n",
      "0     0.581460  0.087114  0.636824  0.139995  0.863779  0.471011  0.034483  \n",
      "1     0.508750  0.282996  0.962183  0.150955  0.866852  0.458051  0.034483  \n",
      "2     0.601151  0.532397  0.573659  0.148614  0.865999  0.460327  0.034483  \n",
      "3     0.577219  0.670502  0.649477  0.150523  0.868726  0.461446  0.034483  \n",
      "4     0.479977  0.868921  0.441594  0.153878  0.873197  0.463072  0.034483  \n",
      "...        ...       ...       ...       ...       ...       ...       ...  \n",
      "1106  0.643187  0.247176  0.789418  0.759582  1.286793  0.357865  0.310345  \n",
      "1107  0.702759  0.311948  0.806434  0.763817  1.287487  0.357845  0.310345  \n",
      "1108  0.342186  0.705696  0.505442  0.766560  1.289159  0.358815  0.310345  \n",
      "1109  0.175081  0.811520  0.756435  0.768168  1.287246  0.357156  0.310345  \n",
      "1110  0.412355  0.785152  0.200556  0.769905  1.286272  0.356223  0.310345  \n",
      "\n",
      "[1111 rows x 562 columns]\n"
     ]
    }
   ],
   "source": [
    "print(X_test)"
   ]
  },
  {
   "cell_type": "code",
   "execution_count": 69,
   "metadata": {},
   "outputs": [],
   "source": [
    "XX = m.iloc[:,564:1084]"
   ]
  },
  {
   "cell_type": "code",
   "execution_count": 70,
   "metadata": {},
   "outputs": [
    {
     "name": "stdout",
     "output_type": "stream",
     "text": [
      "      WAP001  WAP002  WAP003  WAP004  WAP005  WAP006  WAP007  WAP008  WAP009  \\\n",
      "0        0.0       0     0.0     0.0       0       0       0     0.0     0.0   \n",
      "1        0.0       0     0.0     0.0       0       0       0     0.0     0.0   \n",
      "2        0.0       0     0.0     0.0       0       0       0     0.0     0.0   \n",
      "3        0.0       0     0.0     0.0       0       0       0     0.0     0.0   \n",
      "4        0.0       0     0.0     0.0       0       0       0     0.0     0.0   \n",
      "...      ...     ...     ...     ...     ...     ...     ...     ...     ...   \n",
      "1106     0.0       0     0.0     0.0       0       0       0     0.0     0.0   \n",
      "1107     0.0       0     0.0     0.0       0       0       0     0.0     0.0   \n",
      "1108     0.0       0     0.0     0.0       0       0       0     0.0     0.0   \n",
      "1109     0.0       0     0.0     0.0       0       0       0     0.0     0.0   \n",
      "1110     0.0       0     0.0     0.0       0       0       0     0.0     0.0   \n",
      "\n",
      "      WAP010  ...  WAP511  WAP512  WAP513  WAP514  WAP515  WAP516  WAP517  \\\n",
      "0        0.0  ...       0       0       0       0       0       0       0   \n",
      "1        0.0  ...       0       0       0       0       0       0       0   \n",
      "2        0.0  ...       0       0       0       0       0       0       0   \n",
      "3        0.0  ...       0       0       0       0       0       0       0   \n",
      "4        0.0  ...       0       0       0       0       0       0       0   \n",
      "...      ...  ...     ...     ...     ...     ...     ...     ...     ...   \n",
      "1106     0.0  ...       0       0       0       0       0       0       0   \n",
      "1107     0.0  ...       0       0       0       0       0       0       0   \n",
      "1108     0.0  ...       0       0       0       0       0       0       0   \n",
      "1109     0.0  ...       0       0       0       0       0       0       0   \n",
      "1110     0.0  ...       0       0       0       0       0       0       0   \n",
      "\n",
      "      WAP518  WAP519  WAP520  \n",
      "0          0       0     0.0  \n",
      "1          0       0     0.0  \n",
      "2          0       0     0.0  \n",
      "3          0       0     0.0  \n",
      "4          0       0     0.0  \n",
      "...      ...     ...     ...  \n",
      "1106       0       0     0.0  \n",
      "1107       0       0     0.0  \n",
      "1108       0       0     0.0  \n",
      "1109       0       0     0.0  \n",
      "1110       0       0     0.0  \n",
      "\n",
      "[1111 rows x 520 columns]\n"
     ]
    }
   ],
   "source": [
    "print(XX)"
   ]
  },
  {
   "cell_type": "code",
   "execution_count": 71,
   "metadata": {},
   "outputs": [
    {
     "data": {
      "text/plain": [
       "pandas.core.frame.DataFrame"
      ]
     },
     "execution_count": 71,
     "metadata": {},
     "output_type": "execute_result"
    }
   ],
   "source": [
    "type(X_test)"
   ]
  },
  {
   "cell_type": "code",
   "execution_count": 72,
   "metadata": {},
   "outputs": [
    {
     "data": {
      "text/plain": [
       "array([[0.62858889, 0.48835738, 0.49267312, ..., 0.86377885, 0.47101085,\n",
       "        0.03448276],\n",
       "       [0.64301336, 0.49341832, 0.44045874, ..., 0.86685151, 0.45805099,\n",
       "        0.03448276],\n",
       "       [0.63774241, 0.48697479, 0.44092416, ..., 0.86599918, 0.4603269 ,\n",
       "        0.03448276],\n",
       "       ...,\n",
       "       [0.63122222, 0.4938429 , 0.4511311 , ..., 1.2891586 , 0.35881471,\n",
       "        0.31034483],\n",
       "       [0.63127318, 0.49189144, 0.44827931, ..., 1.28724648, 0.35715629,\n",
       "        0.31034483],\n",
       "       [0.63482378, 0.4907663 , 0.44639102, ..., 1.28627218, 0.35622287,\n",
       "        0.31034483]])"
      ]
     },
     "execution_count": 72,
     "metadata": {},
     "output_type": "execute_result"
    }
   ],
   "source": [
    "np.array(X_test)"
   ]
  },
  {
   "cell_type": "code",
   "execution_count": 48,
   "metadata": {},
   "outputs": [
    {
     "data": {
      "text/plain": [
       "(1111, 562)"
      ]
     },
     "execution_count": 48,
     "metadata": {},
     "output_type": "execute_result"
    }
   ],
   "source": [
    "X_test.shape"
   ]
  },
  {
   "cell_type": "code",
   "execution_count": 49,
   "metadata": {},
   "outputs": [
    {
     "name": "stdout",
     "output_type": "stream",
     "text": [
      "Enter User Id :\n",
      "2\n"
     ]
    }
   ],
   "source": [
    "print(\"Enter User Id :\")\n",
    "ui = int(input())"
   ]
  },
  {
   "cell_type": "code",
   "execution_count": 54,
   "metadata": {},
   "outputs": [],
   "source": [
    "s1 = X_test.iloc[ui,]\n",
    "s2 = XX.iloc[ui,]"
   ]
  },
  {
   "cell_type": "code",
   "execution_count": null,
   "metadata": {},
   "outputs": [],
   "source": []
  },
  {
   "cell_type": "code",
   "execution_count": 55,
   "metadata": {},
   "outputs": [
    {
     "data": {
      "text/plain": [
       "numpy.ndarray"
      ]
     },
     "execution_count": 55,
     "metadata": {},
     "output_type": "execute_result"
    }
   ],
   "source": [
    "s1.shape\n",
    "s1 = s1.to_numpy(dtype=object)\n",
    "type(s1)"
   ]
  },
  {
   "cell_type": "code",
   "execution_count": 56,
   "metadata": {},
   "outputs": [],
   "source": [
    "s2.shape\n",
    "s2 = s2.to_numpy(dtype=object)"
   ]
  },
  {
   "cell_type": "code",
   "execution_count": 57,
   "metadata": {},
   "outputs": [],
   "source": [
    "pred = []\n",
    "type(s1)\n",
    "pred1 = model.predict(s1.reshape(1,562))\n",
    "pred1 = np.argmax(pred1,axis=1)"
   ]
  },
  {
   "cell_type": "code",
   "execution_count": 58,
   "metadata": {},
   "outputs": [],
   "source": [
    "dp = \"/home/varshi/Desktop/Project\"\n",
    "p1 = dp + \"/train.csv\"\n",
    "p2 = dp + \"/test.csv\" \n",
    "train = pd.read_csv(p1)"
   ]
  },
  {
   "cell_type": "code",
   "execution_count": 59,
   "metadata": {},
   "outputs": [],
   "source": [
    "le = preprocessing.LabelEncoder()\n",
    "Y_train = train['Activity'].copy() \n",
    "le.fit(Y_train)\n",
    "p1 = le.inverse_transform([pred1])\n",
    "pred.append(p1)"
   ]
  },
  {
   "cell_type": "code",
   "execution_count": 66,
   "metadata": {},
   "outputs": [
    {
     "ename": "NameError",
     "evalue": "name 'y_train' is not defined",
     "output_type": "error",
     "traceback": [
      "\u001b[0;31m---------------------------------------------------------------------------\u001b[0m",
      "\u001b[0;31mNameError\u001b[0m                                 Traceback (most recent call last)",
      "\u001b[0;32m<ipython-input-66-7620858f319d>\u001b[0m in \u001b[0;36m<module>\u001b[0;34m\u001b[0m\n\u001b[0;32m----> 1\u001b[0;31m ref_table = pd.concat([y_train.iloc[:, [0,1,2,3,9]], \n\u001b[0m\u001b[1;32m      2\u001b[0m                        \u001b[0my_val\u001b[0m\u001b[0;34m.\u001b[0m\u001b[0miloc\u001b[0m\u001b[0;34m[\u001b[0m\u001b[0;34m:\u001b[0m\u001b[0;34m,\u001b[0m \u001b[0;34m[\u001b[0m\u001b[0;36m0\u001b[0m\u001b[0;34m,\u001b[0m\u001b[0;36m1\u001b[0m\u001b[0;34m,\u001b[0m\u001b[0;36m2\u001b[0m\u001b[0;34m,\u001b[0m\u001b[0;36m3\u001b[0m\u001b[0;34m,\u001b[0m\u001b[0;36m9\u001b[0m\u001b[0;34m]\u001b[0m\u001b[0;34m]\u001b[0m\u001b[0;34m,\u001b[0m\u001b[0;34m\u001b[0m\u001b[0;34m\u001b[0m\u001b[0m\n\u001b[1;32m      3\u001b[0m                         y_test.iloc[:, [0,1,2,3,9]]])\n\u001b[1;32m      4\u001b[0m \u001b[0mref_table\u001b[0m \u001b[0;34m=\u001b[0m \u001b[0mref_table\u001b[0m\u001b[0;34m.\u001b[0m\u001b[0mdrop_duplicates\u001b[0m\u001b[0;34m(\u001b[0m\u001b[0;34m)\u001b[0m\u001b[0;34m\u001b[0m\u001b[0;34m\u001b[0m\u001b[0m\n",
      "\u001b[0;31mNameError\u001b[0m: name 'y_train' is not defined"
     ]
    }
   ],
   "source": [
    "\n",
    "ref_table = pd.concat([y_train.iloc[:, [0,1,2,3,9]], \n",
    "                       y_val.iloc[:, [0,1,2,3,9]],\n",
    "                        y_test.iloc[:, [0,1,2,3,9]]])\n",
    "ref_table = ref_table.drop_duplicates()"
   ]
  },
  {
   "cell_type": "code",
   "execution_count": 64,
   "metadata": {},
   "outputs": [
    {
     "data": {
      "text/plain": [
       "numpy.ndarray"
      ]
     },
     "execution_count": 64,
     "metadata": {},
     "output_type": "execute_result"
    }
   ],
   "source": [
    "pred2 = model1.predict(s2.reshape(1,520))\n",
    "pred2 = np.argmax(pred2,axis=1)\n",
    "pos = pred2[0:2]\n",
    "pred.append(pred2)\n",
    "#pred\n",
    "type(pred2)"
   ]
  },
  {
   "cell_type": "code",
   "execution_count": 65,
   "metadata": {},
   "outputs": [
    {
     "name": "stdout",
     "output_type": "stream",
     "text": [
      "User 2 is ['STANDING'] at Location [409]\n",
      "\n"
     ]
    }
   ],
   "source": [
    "print(\"User {} is {} at Location {}\\n\".format(ui,pred[0],pred[1]))"
   ]
  },
  {
   "cell_type": "code",
   "execution_count": null,
   "metadata": {},
   "outputs": [],
   "source": []
  }
 ],
 "metadata": {
  "kernelspec": {
   "display_name": "Python 3",
   "language": "python",
   "name": "python3"
  },
  "language_info": {
   "codemirror_mode": {
    "name": "ipython",
    "version": 3
   },
   "file_extension": ".py",
   "mimetype": "text/x-python",
   "name": "python",
   "nbconvert_exporter": "python",
   "pygments_lexer": "ipython3",
   "version": "3.7.5"
  }
 },
 "nbformat": 4,
 "nbformat_minor": 4
}
